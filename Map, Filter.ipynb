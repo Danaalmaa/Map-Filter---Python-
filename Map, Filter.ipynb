{
 "cells": [
  {
   "cell_type": "code",
   "execution_count": 5,
   "id": "5813ac7d-5b4a-42bf-af5d-ed675c71010d",
   "metadata": {},
   "outputs": [
    {
     "name": "stdout",
     "output_type": "stream",
     "text": [
      "['10', '10', '10', '10', '10', '10', '11', '11']\n",
      "['26', '27', '28', '29', '30', '31', '01', '02']\n",
      "['2022', '2022', '2022', '2022', '2022', '2022', '2022', '2022']\n"
     ]
    }
   ],
   "source": [
    "dates = [\"10/26/2022\",\"10/27/2022\",\"10/28/2022\",\"10/29/2022\",\"10/30/2022\",\"10/31/2022\",\"11/01/2022\",\"11/02/2022\"]\n",
    "month = list(map(lambda x: x [0:2], dates))\n",
    "day = list(map(lambda x: x [3:5], dates))\n",
    "year = list(map(lambda x: x[6:10], dates))\n",
    "print (month)\n",
    "print(day)\n",
    "print(year)"
   ]
  },
  {
   "cell_type": "code",
   "execution_count": null,
   "id": "082260b5-cc10-4d5d-adab-b20d29f7f38b",
   "metadata": {},
   "outputs": [],
   "source": [
    "file_name= 'pg7.txt'\n",
    "with open(file_name,encoding='utf8') as myfile:\n",
    " contents =myfile.read()\n",
    " contents =re.sub(r'[!,.+\"$%&`%]', \"\", contents)\n",
    " contents = contents.split()\n",
    "f = list(filter(lambda x: len(x) > 10 and x.istitle() ,contents))\n",
    "print(f)"
   ]
  }
 ],
 "metadata": {
  "kernelspec": {
   "display_name": "Python 3 (ipykernel)",
   "language": "python",
   "name": "python3"
  },
  "language_info": {
   "codemirror_mode": {
    "name": "ipython",
    "version": 3
   },
   "file_extension": ".py",
   "mimetype": "text/x-python",
   "name": "python",
   "nbconvert_exporter": "python",
   "pygments_lexer": "ipython3",
   "version": "3.10.6"
  }
 },
 "nbformat": 4,
 "nbformat_minor": 5
}
